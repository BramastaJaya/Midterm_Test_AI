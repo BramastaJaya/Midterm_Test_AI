{
 "cells": [
  {
   "cell_type": "markdown",
   "metadata": {
    "id": "OzmGGvC0pl1G"
   },
   "source": [
    "### Soal: Penyesuaian Nilai Koefisien Persamaan Linear\n",
    "Tentukan koefisien a dan b dari fungsi  \n",
    "\n",
    "\n",
    "> f(x) = ax + b\n",
    "\n",
    "\n",
    "agar mendekati data target secara regresi sederhana menggunakan SA."
   ]
  },
  {
   "cell_type": "code",
   "execution_count": 2,
   "metadata": {
    "id": "744RiwfQk8UW"
   },
   "outputs": [],
   "source": [
    "import random, math  # Import modul random untuk nilai acak dan math untuk fungsi matematika\n",
    "\n",
    "# Membuat data sintetis: pasangan (x, y) dengan noise Gaussian (simulasi data linier)\n",
    "data = [(x, 3*x + 2 + random.gauss(0, 1)) for x in range(10)]  # y ≈ 3x + 2 + noise"
   ]
  },
  {
   "cell_type": "code",
   "execution_count": 3,
   "metadata": {
    "id": "ewnz8N8Qp1LN"
   },
   "outputs": [],
   "source": [
    "# Fungsi untuk menghitung Mean Squared Error (MSE) antara prediksi model dan data\n",
    "def mse(a, b):\n",
    "    # Tugas Anda: Nilai 40\n",
    "    # Rata-rata kuadrat selisih\n",
    "    return math.sqrt((a[0] - b[0])**2 + (a[1] - b[1])**2)"
   ]
  },
  {
   "cell_type": "code",
   "execution_count": 5,
   "metadata": {},
   "outputs": [],
   "source": [
    "def evaluate(sensors):\n",
    "    overlap = 0\n",
    "    for i in range(len(sensors)):\n",
    "        for j in range(i+1, len(sensors)):\n",
    "            if mse(sensors[i], sensors[j]) < 1:\n",
    "                overlap += 1\n",
    "    return overlap"
   ]
  },
  {
   "cell_type": "code",
   "execution_count": 8,
   "metadata": {
    "id": "CZ777Rc4qEyb"
   },
   "outputs": [],
   "source": [
    "def simulated_annealing_sensors(T=100, alpha=0.95):\n",
    "    sensors = [(random.uniform(0, 10), random.uniform(0, 10)) for _ in range(5)]  # Inisialisasi\n",
    "    current_score = evaluate(sensors)\n",
    "    while T > 0.01 and current_score > 0:\n",
    "        new_sensors = sensors[:]\n",
    "        i = random.randint(0, 4)\n",
    "        new_sensors[i] = (random.uniform(0, 10), random.uniform(0, 10))\n",
    "\n",
    "        new_score = evaluate(new_sensors)\n",
    "        delta = new_score - current_score\n",
    "        \n",
    "        if delta < 0 or math.exp(-delta / T) > random.random():\n",
    "            sensors = new_sensors\n",
    "            current_score = new_score\n",
    "            \n",
    "        T *= alpha  \n",
    "    return sensors, current_score"
   ]
  },
  {
   "cell_type": "code",
   "execution_count": null,
   "metadata": {
    "id": "9gYg5JIhqGea"
   },
   "outputs": [
    {
     "name": "stdout",
     "output_type": "stream",
     "text": [
      "\n",
      "--- RUN 1 ---\n",
      "\n",
      "Hasil Run 1:\n",
      "Score akhir (overlap): 0\n",
      "Posisi sensor:\n",
      "  Sensor 1: (9.395, 4.182)\n",
      "  Sensor 2: (5.446, 2.263)\n",
      "  Sensor 3: (1.260, 8.110)\n",
      "  Sensor 4: (4.769, 4.078)\n",
      "  Sensor 5: (2.894, 0.416)\n",
      "\n",
      "--- RUN 2 ---\n",
      "\n",
      "Hasil Run 2:\n",
      "Score akhir (overlap): 0\n",
      "Posisi sensor:\n",
      "  Sensor 1: (5.885, 2.817)\n",
      "  Sensor 2: (1.011, 3.450)\n",
      "  Sensor 3: (9.434, 1.004)\n",
      "  Sensor 4: (2.219, 3.129)\n",
      "  Sensor 5: (2.359, 8.156)\n"
     ]
    }
   ],
   "source": [
    "for run in range(2):\n",
    "    sensors, score = simulated_annealing_sensors(T=100, alpha=0.95)\n",
    "    print(f\"Hasil Run {run + 1}:\")\n",
    "    print(f\"Score akhir (overlap): {score}\")\n",
    "    print(\"Posisi sensor:\")\n",
    "    for i, sensor in enumerate(sensors):\n",
    "        print(f\"  Sensor {i+1}: ({sensor[0]:.3f}, {sensor[1]:.3f})\")"
   ]
  }
 ],
 "metadata": {
  "colab": {
   "authorship_tag": "ABX9TyO6rcxsJ1Mv6e/Fd6XQKUkp",
   "provenance": []
  },
  "kernelspec": {
   "display_name": ".venv",
   "language": "python",
   "name": "python3"
  },
  "language_info": {
   "codemirror_mode": {
    "name": "ipython",
    "version": 3
   },
   "file_extension": ".py",
   "mimetype": "text/x-python",
   "name": "python",
   "nbconvert_exporter": "python",
   "pygments_lexer": "ipython3",
   "version": "3.13.3"
  }
 },
 "nbformat": 4,
 "nbformat_minor": 0
}
